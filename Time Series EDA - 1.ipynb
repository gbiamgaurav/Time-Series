{
 "cells": [
  {
   "cell_type": "markdown",
   "id": "e490de88",
   "metadata": {},
   "source": [
    "## Time Series EDA"
   ]
  },
  {
   "cell_type": "code",
   "execution_count": null,
   "id": "7885baf2",
   "metadata": {},
   "outputs": [],
   "source": [
    "## Install Pandas Data Reader\n",
    "!pip install pandas-datareader\n",
    "!pip install yfinance"
   ]
  },
  {
   "cell_type": "code",
   "execution_count": null,
   "id": "7c7fe466",
   "metadata": {},
   "outputs": [],
   "source": [
    "import pandas_datareader as pdr\n",
    "import pandas as pd\n",
    "from datetime import datetime"
   ]
  },
  {
   "cell_type": "code",
   "execution_count": null,
   "id": "d0b1028a",
   "metadata": {},
   "outputs": [],
   "source": [
    "import yfinance as yf\n",
    "\n",
    "# Define the ticker symbol\n",
    "ticker = \"TSLA\"\n",
    "\n",
    "# Retrieve the data\n",
    "data = yf.download(ticker, start='2018-06-07', end='2023-06-07')"
   ]
  },
  {
   "cell_type": "code",
   "execution_count": null,
   "id": "053c2436",
   "metadata": {},
   "outputs": [],
   "source": [
    "data"
   ]
  },
  {
   "cell_type": "code",
   "execution_count": null,
   "id": "879bcf31",
   "metadata": {},
   "outputs": [],
   "source": [
    "df_tesla = data.copy()"
   ]
  },
  {
   "cell_type": "code",
   "execution_count": null,
   "id": "5f6d2bc4",
   "metadata": {},
   "outputs": [],
   "source": [
    "df_tesla.head()"
   ]
  },
  {
   "cell_type": "markdown",
   "id": "9a2538d9",
   "metadata": {},
   "source": [
    "## Plot the data"
   ]
  },
  {
   "cell_type": "code",
   "execution_count": null,
   "id": "e5998572",
   "metadata": {},
   "outputs": [],
   "source": [
    "df_tesla.plot()"
   ]
  },
  {
   "cell_type": "code",
   "execution_count": null,
   "id": "28deca3e",
   "metadata": {},
   "outputs": [],
   "source": [
    "df_tesla.shape"
   ]
  },
  {
   "cell_type": "code",
   "execution_count": null,
   "id": "33004cd0",
   "metadata": {},
   "outputs": [],
   "source": [
    "df_tesla[\"High\"].plot(figsize=(12, 4))"
   ]
  },
  {
   "cell_type": "code",
   "execution_count": null,
   "id": "39c02e2b",
   "metadata": {},
   "outputs": [],
   "source": [
    "## Xlimit and yLimit\n",
    "\n",
    "df_tesla[\"High\"].plot(xlim=[\"2020-01-01\", \"2020-09-01\"], ylim = [0, 500], figsize=(12, 4))"
   ]
  },
  {
   "cell_type": "code",
   "execution_count": null,
   "id": "eaa57deb",
   "metadata": {},
   "outputs": [],
   "source": [
    "df_tesla[\"High\"].plot(xlim=[\"2020-01-01\", \"2020-09-01\"], ylim = [0, 500], figsize=(12, 4), ls = \"--\", c=\"green\")"
   ]
  },
  {
   "cell_type": "code",
   "execution_count": null,
   "id": "6b33394d",
   "metadata": {},
   "outputs": [],
   "source": [
    "df_tesla.index"
   ]
  },
  {
   "cell_type": "code",
   "execution_count": null,
   "id": "64142037",
   "metadata": {},
   "outputs": [],
   "source": [
    "index = df_tesla.loc[\"2020-01-01\": \"2021-09-01\"].index"
   ]
  },
  {
   "cell_type": "code",
   "execution_count": null,
   "id": "abffe341",
   "metadata": {},
   "outputs": [],
   "source": [
    "share_open = df_tesla.loc[\"2020-09-01\": \"2021-09-01\"][\"Open\"]"
   ]
  },
  {
   "cell_type": "code",
   "execution_count": null,
   "id": "1f321b51",
   "metadata": {},
   "outputs": [],
   "source": [
    "share_open"
   ]
  },
  {
   "cell_type": "code",
   "execution_count": null,
   "id": "eac847ee",
   "metadata": {},
   "outputs": [],
   "source": [
    "import matplotlib.pyplot as plt\n",
    "%matplotlib inline"
   ]
  },
  {
   "cell_type": "code",
   "execution_count": null,
   "id": "d438a760",
   "metadata": {},
   "outputs": [],
   "source": [
    "figure, axis = plt.subplots()\n",
    "plt.tight_layout()\n",
    "axis.plot(index(), share_open)\n",
    "\n",
    "plt.show()"
   ]
  },
  {
   "cell_type": "code",
   "execution_count": null,
   "id": "2ea40412",
   "metadata": {},
   "outputs": [],
   "source": [
    "## Datetime Index"
   ]
  },
  {
   "cell_type": "code",
   "execution_count": null,
   "id": "3706974f",
   "metadata": {},
   "outputs": [],
   "source": [
    "df_tesla.info()"
   ]
  },
  {
   "cell_type": "code",
   "execution_count": null,
   "id": "a0c6f5fc",
   "metadata": {},
   "outputs": [],
   "source": [
    "df_tesla = df_tesla.reset_index()"
   ]
  },
  {
   "cell_type": "code",
   "execution_count": null,
   "id": "fa6d409f",
   "metadata": {},
   "outputs": [],
   "source": [
    "df_tesla.info()"
   ]
  },
  {
   "cell_type": "code",
   "execution_count": null,
   "id": "afe730d5",
   "metadata": {},
   "outputs": [],
   "source": [
    "pd.to_datetime(df_tesla[\"Date\"])"
   ]
  },
  {
   "cell_type": "code",
   "execution_count": null,
   "id": "497b3514",
   "metadata": {},
   "outputs": [],
   "source": [
    "df_tesla"
   ]
  },
  {
   "cell_type": "code",
   "execution_count": null,
   "id": "45c5d817",
   "metadata": {},
   "outputs": [],
   "source": [
    "df_tesla.info()"
   ]
  },
  {
   "cell_type": "code",
   "execution_count": null,
   "id": "46008de2",
   "metadata": {},
   "outputs": [],
   "source": [
    "df_tesla = df_tesla.set_index(\"Date\", drop=True)"
   ]
  },
  {
   "cell_type": "code",
   "execution_count": null,
   "id": "297fa1d3",
   "metadata": {},
   "outputs": [],
   "source": [
    "df_tesla.head()"
   ]
  },
  {
   "cell_type": "markdown",
   "id": "f1d117ea",
   "metadata": {},
   "source": [
    "## Datetime"
   ]
  },
  {
   "cell_type": "code",
   "execution_count": null,
   "id": "6e205fa6",
   "metadata": {},
   "outputs": [],
   "source": [
    "from datetime import datetime"
   ]
  },
  {
   "cell_type": "code",
   "execution_count": null,
   "id": "03669bf7",
   "metadata": {},
   "outputs": [],
   "source": [
    "datetime(2021,11,21)"
   ]
  },
  {
   "cell_type": "code",
   "execution_count": null,
   "id": "188fbea4",
   "metadata": {},
   "outputs": [],
   "source": [
    "datetime.now()"
   ]
  },
  {
   "cell_type": "code",
   "execution_count": null,
   "id": "4bd69c36",
   "metadata": {},
   "outputs": [],
   "source": [
    "def add_num(num1, num2):\n",
    "    return num1 + num2"
   ]
  },
  {
   "cell_type": "code",
   "execution_count": null,
   "id": "d663c9b2",
   "metadata": {},
   "outputs": [],
   "source": [
    "start_time = datetime.now()\n",
    "num1 = 20\n",
    "num2 = 30\n",
    "\n",
    "add_num(num1, num2)\n",
    "\n",
    "end_time = datetime.now()\n",
    "\n",
    "print(end_time - start_time)"
   ]
  },
  {
   "cell_type": "code",
   "execution_count": null,
   "id": "8b1cbf90",
   "metadata": {},
   "outputs": [],
   "source": [
    "start_time = datetime.now()\n",
    "num1 = 20\n",
    "num2 = 30\n",
    "\n",
    "for i in [1,2,3,4,5]:\n",
    "    \n",
    "    add_num(num1, num2)\n",
    "\n",
    "end_time = datetime.now()\n",
    "\n",
    "print(end_time - start_time)"
   ]
  },
  {
   "cell_type": "code",
   "execution_count": null,
   "id": "13e3869e",
   "metadata": {},
   "outputs": [],
   "source": [
    "date = datetime(2021,11,21)"
   ]
  },
  {
   "cell_type": "code",
   "execution_count": null,
   "id": "525cde0e",
   "metadata": {},
   "outputs": [],
   "source": [
    "date"
   ]
  },
  {
   "cell_type": "code",
   "execution_count": null,
   "id": "29b67191",
   "metadata": {},
   "outputs": [],
   "source": [
    "date.date()"
   ]
  },
  {
   "cell_type": "code",
   "execution_count": null,
   "id": "389d1a73",
   "metadata": {},
   "outputs": [],
   "source": [
    "date.day"
   ]
  },
  {
   "cell_type": "code",
   "execution_count": null,
   "id": "5ec97ad7",
   "metadata": {},
   "outputs": [],
   "source": [
    "date.month"
   ]
  },
  {
   "cell_type": "code",
   "execution_count": null,
   "id": "e50f604e",
   "metadata": {},
   "outputs": [],
   "source": [
    "date.weekday()"
   ]
  },
  {
   "cell_type": "code",
   "execution_count": null,
   "id": "7c0679ec",
   "metadata": {},
   "outputs": [],
   "source": [
    "date.year"
   ]
  },
  {
   "cell_type": "markdown",
   "id": "f13d0f39",
   "metadata": {},
   "source": [
    "## Time Resampling"
   ]
  },
  {
   "cell_type": "code",
   "execution_count": null,
   "id": "ff88941e",
   "metadata": {},
   "outputs": [],
   "source": [
    "df_tesla.head()"
   ]
  },
  {
   "cell_type": "code",
   "execution_count": null,
   "id": "e95ecc51",
   "metadata": {},
   "outputs": [],
   "source": [
    "df_tesla.resample(rule=\"A\").min()"
   ]
  },
  {
   "cell_type": "code",
   "execution_count": null,
   "id": "c9e29365",
   "metadata": {},
   "outputs": [],
   "source": [
    "## Rule A - Year end Frequency\n",
    "\n",
    "#https://towardsdatascience.com/resample-function-of-pandas-79b17ec82a78\n",
    "\n",
    "df_tesla.resample(rule=\"A\").max()"
   ]
  },
  {
   "cell_type": "code",
   "execution_count": null,
   "id": "057924bc",
   "metadata": {},
   "outputs": [],
   "source": [
    "type(df_tesla.resample(rule=\"A\").max())"
   ]
  },
  {
   "cell_type": "code",
   "execution_count": null,
   "id": "9daad4d0",
   "metadata": {},
   "outputs": [],
   "source": [
    "df_tesla.resample(rule=\"A\").max()[\"Open\"].plot()"
   ]
  },
  {
   "cell_type": "code",
   "execution_count": null,
   "id": "32ce90db",
   "metadata": {},
   "outputs": [],
   "source": [
    "## Quaterly\n",
    "\n",
    "df_tesla.resample(rule=\"QS\").max()[\"High\"].plot()"
   ]
  },
  {
   "cell_type": "code",
   "execution_count": null,
   "id": "f9eff2bb",
   "metadata": {},
   "outputs": [],
   "source": [
    "## Business End Frequency\n",
    "\n",
    "# https://towardsdatascience.com/resample-function-of-pandas-79b17ec82a78\n",
    "\n",
    "df_tesla.resample(rule=\"BA\").max()[\"High\"].plot()"
   ]
  },
  {
   "cell_type": "code",
   "execution_count": null,
   "id": "4f846b07",
   "metadata": {},
   "outputs": [],
   "source": [
    "## Business Quaters\n",
    "\n",
    "df_tesla.resample(rule=\"BQS\").max()"
   ]
  },
  {
   "cell_type": "code",
   "execution_count": null,
   "id": "03bd051d",
   "metadata": {},
   "outputs": [],
   "source": [
    "## Plotting\n",
    "\n",
    "df_tesla[\"Open\"].resample(rule=\"BA\").mean().plot(kind=\"bar\")"
   ]
  },
  {
   "cell_type": "code",
   "execution_count": null,
   "id": "7790d2c4",
   "metadata": {},
   "outputs": [],
   "source": [
    "df_tesla[\"Open\"].resample(rule=\"M\").max().plot(kind=\"bar\", figsize=(15, 6))"
   ]
  },
  {
   "cell_type": "code",
   "execution_count": null,
   "id": "291a6b78",
   "metadata": {},
   "outputs": [],
   "source": [
    "df_tesla.head()"
   ]
  },
  {
   "cell_type": "code",
   "execution_count": null,
   "id": "acc6055c",
   "metadata": {},
   "outputs": [],
   "source": [
    "df_tesla[\"High\"].rolling(10).mean().head(20)"
   ]
  },
  {
   "cell_type": "code",
   "execution_count": null,
   "id": "f1cfd673",
   "metadata": {},
   "outputs": [],
   "source": [
    "df_tesla.head()"
   ]
  },
  {
   "cell_type": "code",
   "execution_count": null,
   "id": "cf82c03a",
   "metadata": {},
   "outputs": [],
   "source": [
    "df_tesla[\"High\"].rolling(11).mean().head(20)"
   ]
  },
  {
   "cell_type": "code",
   "execution_count": null,
   "id": "9d147301",
   "metadata": {},
   "outputs": [],
   "source": [
    "df_tesla[\"Open:30 days rolling\"] = df_tesla[\"Open\"].rolling(30).mean()"
   ]
  },
  {
   "cell_type": "code",
   "execution_count": null,
   "id": "23ecbcbb",
   "metadata": {},
   "outputs": [],
   "source": [
    "df_tesla.head(31)"
   ]
  },
  {
   "cell_type": "code",
   "execution_count": null,
   "id": "ecbab0c0",
   "metadata": {},
   "outputs": [],
   "source": [
    "df_tesla[[\"Open\", \"Open:30 days rolling\"]].plot(figsize=(15, 6))"
   ]
  },
  {
   "cell_type": "code",
   "execution_count": null,
   "id": "3028e254",
   "metadata": {},
   "outputs": [],
   "source": []
  }
 ],
 "metadata": {
  "kernelspec": {
   "display_name": "Python 3 (ipykernel)",
   "language": "python",
   "name": "python3"
  },
  "language_info": {
   "codemirror_mode": {
    "name": "ipython",
    "version": 3
   },
   "file_extension": ".py",
   "mimetype": "text/x-python",
   "name": "python",
   "nbconvert_exporter": "python",
   "pygments_lexer": "ipython3",
   "version": "3.10.10"
  }
 },
 "nbformat": 4,
 "nbformat_minor": 5
}
